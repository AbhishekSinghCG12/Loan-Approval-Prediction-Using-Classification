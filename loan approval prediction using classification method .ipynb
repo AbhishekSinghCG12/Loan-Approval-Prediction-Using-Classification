{
 "cells": [
  {
   "cell_type": "code",
   "execution_count": null,
   "id": "a869ce9f",
   "metadata": {},
   "outputs": [],
   "source": [
    "# this notebook is for creating a predictive model for house price prediction using random forest classifier.\n",
    "#this is done by 19cse224 Abhishek Singh . the dataset is taken from kaggle.com . "
   ]
  },
  {
   "cell_type": "code",
   "execution_count": 64,
   "id": "e312a846",
   "metadata": {},
   "outputs": [],
   "source": [
    "import warnings\n",
    "warnings.filterwarnings('ignore')\n",
    "\n",
    "\"\"\" #to ignore unnecessary warnings \"\"\""
   ]
  },
  {
   "cell_type": "code",
   "execution_count": 123,
   "id": "50b913ed",
   "metadata": {},
   "outputs": [],
   "source": [
    "import pandas as pd\n",
    "import numpy as np\n",
    "import seaborn as sb\n",
    "import matplotlib.pyplot as plt\n",
    "from sklearn import metrics\n",
    "\n",
    "%matplotlib inline\n",
    "\n",
    "\n",
    "\"\"\" ln1 : #we will use \"pandas\" (a package ) for data analysis (like any calculations), \n",
    "     some data cleaning and data visualization there are so many others too.  \n",
    "     ln 2 :  we will \"numpy \", a data anaylsis package, in the notebook we can used to work with different multi-demsional arrays\n",
    "      ln 3 :  we will use \"\"#seaborn\" is a data visualization packahe . in the notebook, you will see different plots and specailly \n",
    "      used for plots with special relationships\n",
    "      ln 4 : it can also be wriiten as \"from matplotlib import pyplot as mpy\" . matplotplib is also a classic data visulaization package . \n",
    "      here in the notebook we use a scatter graph from matplotlib\n",
    "      ln 5 : #mertric module will be used to measure the random forest classifiers model 's performance with outcase dicussed below \n",
    "      \n",
    "      ln 7 : when ever a plot is created it will create/show like a png file for the plot.\"\"\""
   ]
  },
  {
   "cell_type": "code",
   "execution_count": 124,
   "id": "e14bce87",
   "metadata": {},
   "outputs": [],
   "source": [
    "loan_pr = pd.read_csv('train_for_loan_approval.csv')\n",
    "\n",
    "#reading a csv file (pandas)"
   ]
  },
  {
   "cell_type": "code",
   "execution_count": 125,
   "id": "1cfde213",
   "metadata": {},
   "outputs": [
    {
     "data": {
      "text/html": [
       "<div>\n",
       "<style scoped>\n",
       "    .dataframe tbody tr th:only-of-type {\n",
       "        vertical-align: middle;\n",
       "    }\n",
       "\n",
       "    .dataframe tbody tr th {\n",
       "        vertical-align: top;\n",
       "    }\n",
       "\n",
       "    .dataframe thead th {\n",
       "        text-align: right;\n",
       "    }\n",
       "</style>\n",
       "<table border=\"1\" class=\"dataframe\">\n",
       "  <thead>\n",
       "    <tr style=\"text-align: right;\">\n",
       "      <th></th>\n",
       "      <th>Loan_ID</th>\n",
       "      <th>Gender</th>\n",
       "      <th>Married</th>\n",
       "      <th>Dependents</th>\n",
       "      <th>Education</th>\n",
       "      <th>Self_Employed</th>\n",
       "      <th>ApplicantIncome</th>\n",
       "      <th>CoapplicantIncome</th>\n",
       "      <th>LoanAmount</th>\n",
       "      <th>Loan_Amount_Term</th>\n",
       "      <th>Credit_History</th>\n",
       "      <th>Property_Area</th>\n",
       "      <th>Loan_Status</th>\n",
       "    </tr>\n",
       "  </thead>\n",
       "  <tbody>\n",
       "    <tr>\n",
       "      <th>0</th>\n",
       "      <td>LP001002</td>\n",
       "      <td>Male</td>\n",
       "      <td>No</td>\n",
       "      <td>0</td>\n",
       "      <td>Graduate</td>\n",
       "      <td>No</td>\n",
       "      <td>5849</td>\n",
       "      <td>0.0</td>\n",
       "      <td>NaN</td>\n",
       "      <td>360.0</td>\n",
       "      <td>1.0</td>\n",
       "      <td>Urban</td>\n",
       "      <td>Y</td>\n",
       "    </tr>\n",
       "    <tr>\n",
       "      <th>1</th>\n",
       "      <td>LP001003</td>\n",
       "      <td>Male</td>\n",
       "      <td>Yes</td>\n",
       "      <td>1</td>\n",
       "      <td>Graduate</td>\n",
       "      <td>No</td>\n",
       "      <td>4583</td>\n",
       "      <td>1508.0</td>\n",
       "      <td>128.0</td>\n",
       "      <td>360.0</td>\n",
       "      <td>1.0</td>\n",
       "      <td>Rural</td>\n",
       "      <td>N</td>\n",
       "    </tr>\n",
       "    <tr>\n",
       "      <th>2</th>\n",
       "      <td>LP001005</td>\n",
       "      <td>Male</td>\n",
       "      <td>Yes</td>\n",
       "      <td>0</td>\n",
       "      <td>Graduate</td>\n",
       "      <td>Yes</td>\n",
       "      <td>3000</td>\n",
       "      <td>0.0</td>\n",
       "      <td>66.0</td>\n",
       "      <td>360.0</td>\n",
       "      <td>1.0</td>\n",
       "      <td>Urban</td>\n",
       "      <td>Y</td>\n",
       "    </tr>\n",
       "    <tr>\n",
       "      <th>3</th>\n",
       "      <td>LP001006</td>\n",
       "      <td>Male</td>\n",
       "      <td>Yes</td>\n",
       "      <td>0</td>\n",
       "      <td>Not Graduate</td>\n",
       "      <td>No</td>\n",
       "      <td>2583</td>\n",
       "      <td>2358.0</td>\n",
       "      <td>120.0</td>\n",
       "      <td>360.0</td>\n",
       "      <td>1.0</td>\n",
       "      <td>Urban</td>\n",
       "      <td>Y</td>\n",
       "    </tr>\n",
       "    <tr>\n",
       "      <th>4</th>\n",
       "      <td>LP001008</td>\n",
       "      <td>Male</td>\n",
       "      <td>No</td>\n",
       "      <td>0</td>\n",
       "      <td>Graduate</td>\n",
       "      <td>No</td>\n",
       "      <td>6000</td>\n",
       "      <td>0.0</td>\n",
       "      <td>141.0</td>\n",
       "      <td>360.0</td>\n",
       "      <td>1.0</td>\n",
       "      <td>Urban</td>\n",
       "      <td>Y</td>\n",
       "    </tr>\n",
       "  </tbody>\n",
       "</table>\n",
       "</div>"
      ],
      "text/plain": [
       "    Loan_ID Gender Married Dependents     Education Self_Employed  \\\n",
       "0  LP001002   Male      No          0      Graduate            No   \n",
       "1  LP001003   Male     Yes          1      Graduate            No   \n",
       "2  LP001005   Male     Yes          0      Graduate           Yes   \n",
       "3  LP001006   Male     Yes          0  Not Graduate            No   \n",
       "4  LP001008   Male      No          0      Graduate            No   \n",
       "\n",
       "   ApplicantIncome  CoapplicantIncome  LoanAmount  Loan_Amount_Term  \\\n",
       "0             5849                0.0         NaN             360.0   \n",
       "1             4583             1508.0       128.0             360.0   \n",
       "2             3000                0.0        66.0             360.0   \n",
       "3             2583             2358.0       120.0             360.0   \n",
       "4             6000                0.0       141.0             360.0   \n",
       "\n",
       "   Credit_History Property_Area Loan_Status  \n",
       "0             1.0         Urban           Y  \n",
       "1             1.0         Rural           N  \n",
       "2             1.0         Urban           Y  \n",
       "3             1.0         Urban           Y  \n",
       "4             1.0         Urban           Y  "
      ]
     },
     "execution_count": 125,
     "metadata": {},
     "output_type": "execute_result"
    }
   ],
   "source": [
    "loan_pr.head()\n",
    "#showcasing the csv file "
   ]
  },
  {
   "cell_type": "code",
   "execution_count": 126,
   "id": "76e3783e",
   "metadata": {},
   "outputs": [
    {
     "name": "stdout",
     "output_type": "stream",
     "text": [
      "<class 'pandas.core.frame.DataFrame'>\n",
      "RangeIndex: 614 entries, 0 to 613\n",
      "Data columns (total 13 columns):\n",
      " #   Column             Non-Null Count  Dtype  \n",
      "---  ------             --------------  -----  \n",
      " 0   Loan_ID            614 non-null    object \n",
      " 1   Gender             601 non-null    object \n",
      " 2   Married            611 non-null    object \n",
      " 3   Dependents         599 non-null    object \n",
      " 4   Education          614 non-null    object \n",
      " 5   Self_Employed      582 non-null    object \n",
      " 6   ApplicantIncome    614 non-null    int64  \n",
      " 7   CoapplicantIncome  614 non-null    float64\n",
      " 8   LoanAmount         592 non-null    float64\n",
      " 9   Loan_Amount_Term   600 non-null    float64\n",
      " 10  Credit_History     564 non-null    float64\n",
      " 11  Property_Area      614 non-null    object \n",
      " 12  Loan_Status        614 non-null    object \n",
      "dtypes: float64(4), int64(1), object(8)\n",
      "memory usage: 62.5+ KB\n"
     ]
    }
   ],
   "source": [
    "loan_pr.info()\n",
    "#gaining the information about the csv file"
   ]
  },
  {
   "cell_type": "code",
   "execution_count": null,
   "id": "f3f42365",
   "metadata": {},
   "outputs": [],
   "source": [
    "\"\"\"We  can observe there are Null values in the Data which means we need to clean the data or else our model will be defective \n",
    "Credit_History and Loan_Amount_Term are Categorical varible we need to change its Data type\n",
    "Loan_Status is the Target Variables as we need to find if loan will be approved or not \n",
    "We can drop the Loan_ID Column as it does not provide any information this will be useless as there will be no signifact pattern helpfull \"\"\""
   ]
  },
  {
   "cell_type": "code",
   "execution_count": 127,
   "id": "739fed66",
   "metadata": {},
   "outputs": [
    {
     "name": "stdout",
     "output_type": "stream",
     "text": [
      "Number of duplicate records 0\n"
     ]
    }
   ],
   "source": [
    "dupli=loan_pr.duplicated()\n",
    "print('Number of duplicate records',dupli.sum())"
   ]
  },
  {
   "cell_type": "code",
   "execution_count": null,
   "id": "aab64850",
   "metadata": {},
   "outputs": [],
   "source": [
    "#we will check if it has duplicate data cause it can also lead to our model be less accurate . but as you can see there no duplicate data"
   ]
  },
  {
   "cell_type": "code",
   "execution_count": 128,
   "id": "4ff7e7e3",
   "metadata": {},
   "outputs": [],
   "source": [
    "loan_pr['Credit_History']=loan_pr['Credit_History'].astype('object')\n",
    "loan_pr['Loan_Amount_Term']=loan_pr['Loan_Amount_Term'].astype('object')\n",
    "\n",
    "# here we will change the datatypes for credit history and loan amount terms to object from numpy.float64 bcoz we will use to anaylze\n",
    "# so that we can use analyze in yes or no / 0 or 1 form"
   ]
  },
  {
   "cell_type": "code",
   "execution_count": 129,
   "id": "74ab4a4e",
   "metadata": {},
   "outputs": [],
   "source": [
    "loan_pr['Dependents']=np.where(loan_pr['Dependents']=='0',0,loan_pr['Dependents'])\n",
    "loan_pr['Dependents']=np.where(loan_pr['Dependents']=='1',1,loan_pr['Dependents'])\n",
    "loan_pr['Dependents']=np.where(loan_pr['Dependents']=='2',2,loan_pr['Dependents'])\n",
    "loan_pr['Dependents']=np.where(loan_pr['Dependents']=='3+',3,loan_pr['Dependents'])"
   ]
  },
  {
   "cell_type": "code",
   "execution_count": null,
   "id": "a79b4074",
   "metadata": {},
   "outputs": [],
   "source": [
    "# naming the dependents into nums so that data anaysis and ploting will be easy ."
   ]
  },
  {
   "cell_type": "code",
   "execution_count": 130,
   "id": "d2c8cdd6",
   "metadata": {},
   "outputs": [],
   "source": [
    "loan_pr['Dependents']=loan_pr['Dependents'].astype('float64')"
   ]
  },
  {
   "cell_type": "code",
   "execution_count": null,
   "id": "43b9296d",
   "metadata": {},
   "outputs": [],
   "source": [
    "#naming the data type for dependents to numpy.float64"
   ]
  },
  {
   "cell_type": "code",
   "execution_count": 131,
   "id": "c3bfbf06",
   "metadata": {},
   "outputs": [],
   "source": [
    "loan_pr.drop(['Loan_ID'],axis=1,inplace=True) \n",
    "\n",
    "# we dropped the unneccesary loan_id column "
   ]
  },
  {
   "cell_type": "code",
   "execution_count": 132,
   "id": "a23d8df3",
   "metadata": {},
   "outputs": [
    {
     "name": "stdout",
     "output_type": "stream",
     "text": [
      "['Gender', 'Married', 'Education', 'Self_Employed', 'Loan_Amount_Term', 'Credit_History', 'Property_Area', 'Loan_Status']\n",
      "['Dependents', 'ApplicantIncome', 'CoapplicantIncome', 'LoanAmount']\n"
     ]
    }
   ],
   "source": [
    "obj=[]\n",
    "num=[]\n",
    "for i in loan_pr.columns:\n",
    "    if loan_pr[i].dtype=='object':\n",
    "        obj.append(i)\n",
    "    else:\n",
    "        num.append(i)\n",
    "\n",
    "print(obj)\n",
    "print(num)"
   ]
  },
  {
   "cell_type": "code",
   "execution_count": null,
   "id": "57e4c476",
   "metadata": {},
   "outputs": [],
   "source": [
    "\"\"\" sperating the numerical parts (int64 & float 64) as num and object part as obj  \"\"\""
   ]
  },
  {
   "cell_type": "code",
   "execution_count": 133,
   "id": "d211580e",
   "metadata": {},
   "outputs": [
    {
     "name": "stdout",
     "output_type": "stream",
     "text": [
      "Gender\n",
      "Male      489\n",
      "Female    112\n",
      "Name: Gender, dtype: int64\n",
      "\n",
      "\n",
      "Married\n",
      "Yes    398\n",
      "No     213\n",
      "Name: Married, dtype: int64\n",
      "\n",
      "\n",
      "Education\n",
      "Graduate        480\n",
      "Not Graduate    134\n",
      "Name: Education, dtype: int64\n",
      "\n",
      "\n",
      "Self_Employed\n",
      "No     500\n",
      "Yes     82\n",
      "Name: Self_Employed, dtype: int64\n",
      "\n",
      "\n",
      "Loan_Amount_Term\n",
      "360.0    512\n",
      "180.0     44\n",
      "480.0     15\n",
      "300.0     13\n",
      "84.0       4\n",
      "240.0      4\n",
      "120.0      3\n",
      "36.0       2\n",
      "60.0       2\n",
      "12.0       1\n",
      "Name: Loan_Amount_Term, dtype: int64\n",
      "\n",
      "\n",
      "Credit_History\n",
      "1.0    475\n",
      "0.0     89\n",
      "Name: Credit_History, dtype: int64\n",
      "\n",
      "\n",
      "Property_Area\n",
      "Semiurban    233\n",
      "Urban        202\n",
      "Rural        179\n",
      "Name: Property_Area, dtype: int64\n",
      "\n",
      "\n",
      "Loan_Status\n",
      "Y    422\n",
      "N    192\n",
      "Name: Loan_Status, dtype: int64\n",
      "\n",
      "\n"
     ]
    }
   ],
   "source": [
    "#Looking at unique values\n",
    "for i in loan_pr[obj]:\n",
    "    print(i)\n",
    "    print( loan_pr[i].value_counts())\n",
    "    print(\"\\n\")\n"
   ]
  },
  {
   "cell_type": "code",
   "execution_count": null,
   "id": "93eeadbe",
   "metadata": {},
   "outputs": [],
   "source": [
    "#seeing all the overalls numerical prts in the file "
   ]
  },
  {
   "cell_type": "code",
   "execution_count": 134,
   "id": "facfe536",
   "metadata": {},
   "outputs": [
    {
     "data": {
      "text/html": [
       "<div>\n",
       "<style scoped>\n",
       "    .dataframe tbody tr th:only-of-type {\n",
       "        vertical-align: middle;\n",
       "    }\n",
       "\n",
       "    .dataframe tbody tr th {\n",
       "        vertical-align: top;\n",
       "    }\n",
       "\n",
       "    .dataframe thead th {\n",
       "        text-align: right;\n",
       "    }\n",
       "</style>\n",
       "<table border=\"1\" class=\"dataframe\">\n",
       "  <thead>\n",
       "    <tr style=\"text-align: right;\">\n",
       "      <th></th>\n",
       "      <th>count</th>\n",
       "      <th>mean</th>\n",
       "      <th>std</th>\n",
       "      <th>min</th>\n",
       "      <th>25%</th>\n",
       "      <th>50%</th>\n",
       "      <th>75%</th>\n",
       "      <th>max</th>\n",
       "    </tr>\n",
       "  </thead>\n",
       "  <tbody>\n",
       "    <tr>\n",
       "      <th>Dependents</th>\n",
       "      <td>599.0</td>\n",
       "      <td>0.762938</td>\n",
       "      <td>1.015216</td>\n",
       "      <td>0.0</td>\n",
       "      <td>0.0</td>\n",
       "      <td>0.0</td>\n",
       "      <td>2.00</td>\n",
       "      <td>3.0</td>\n",
       "    </tr>\n",
       "    <tr>\n",
       "      <th>ApplicantIncome</th>\n",
       "      <td>614.0</td>\n",
       "      <td>5403.459283</td>\n",
       "      <td>6109.041673</td>\n",
       "      <td>150.0</td>\n",
       "      <td>2877.5</td>\n",
       "      <td>3812.5</td>\n",
       "      <td>5795.00</td>\n",
       "      <td>81000.0</td>\n",
       "    </tr>\n",
       "    <tr>\n",
       "      <th>CoapplicantIncome</th>\n",
       "      <td>614.0</td>\n",
       "      <td>1621.245798</td>\n",
       "      <td>2926.248369</td>\n",
       "      <td>0.0</td>\n",
       "      <td>0.0</td>\n",
       "      <td>1188.5</td>\n",
       "      <td>2297.25</td>\n",
       "      <td>41667.0</td>\n",
       "    </tr>\n",
       "    <tr>\n",
       "      <th>LoanAmount</th>\n",
       "      <td>592.0</td>\n",
       "      <td>146.412162</td>\n",
       "      <td>85.587325</td>\n",
       "      <td>9.0</td>\n",
       "      <td>100.0</td>\n",
       "      <td>128.0</td>\n",
       "      <td>168.00</td>\n",
       "      <td>700.0</td>\n",
       "    </tr>\n",
       "  </tbody>\n",
       "</table>\n",
       "</div>"
      ],
      "text/plain": [
       "                   count         mean          std    min     25%     50%  \\\n",
       "Dependents         599.0     0.762938     1.015216    0.0     0.0     0.0   \n",
       "ApplicantIncome    614.0  5403.459283  6109.041673  150.0  2877.5  3812.5   \n",
       "CoapplicantIncome  614.0  1621.245798  2926.248369    0.0     0.0  1188.5   \n",
       "LoanAmount         592.0   146.412162    85.587325    9.0   100.0   128.0   \n",
       "\n",
       "                       75%      max  \n",
       "Dependents            2.00      3.0  \n",
       "ApplicantIncome    5795.00  81000.0  \n",
       "CoapplicantIncome  2297.25  41667.0  \n",
       "LoanAmount          168.00    700.0  "
      ]
     },
     "execution_count": 134,
     "metadata": {},
     "output_type": "execute_result"
    }
   ],
   "source": [
    "loan_pr[num].describe().T"
   ]
  },
  {
   "cell_type": "code",
   "execution_count": null,
   "id": "8b26f8b3",
   "metadata": {},
   "outputs": [],
   "source": [
    "##seeing all the overalls object  prts in the file"
   ]
  },
  {
   "cell_type": "code",
   "execution_count": 135,
   "id": "a1c3d45b",
   "metadata": {},
   "outputs": [
    {
     "data": {
      "text/html": [
       "<div>\n",
       "<style scoped>\n",
       "    .dataframe tbody tr th:only-of-type {\n",
       "        vertical-align: middle;\n",
       "    }\n",
       "\n",
       "    .dataframe tbody tr th {\n",
       "        vertical-align: top;\n",
       "    }\n",
       "\n",
       "    .dataframe thead th {\n",
       "        text-align: right;\n",
       "    }\n",
       "</style>\n",
       "<table border=\"1\" class=\"dataframe\">\n",
       "  <thead>\n",
       "    <tr style=\"text-align: right;\">\n",
       "      <th></th>\n",
       "      <th>count</th>\n",
       "      <th>unique</th>\n",
       "      <th>top</th>\n",
       "      <th>freq</th>\n",
       "    </tr>\n",
       "  </thead>\n",
       "  <tbody>\n",
       "    <tr>\n",
       "      <th>Gender</th>\n",
       "      <td>601</td>\n",
       "      <td>2</td>\n",
       "      <td>Male</td>\n",
       "      <td>489</td>\n",
       "    </tr>\n",
       "    <tr>\n",
       "      <th>Married</th>\n",
       "      <td>611</td>\n",
       "      <td>2</td>\n",
       "      <td>Yes</td>\n",
       "      <td>398</td>\n",
       "    </tr>\n",
       "    <tr>\n",
       "      <th>Education</th>\n",
       "      <td>614</td>\n",
       "      <td>2</td>\n",
       "      <td>Graduate</td>\n",
       "      <td>480</td>\n",
       "    </tr>\n",
       "    <tr>\n",
       "      <th>Self_Employed</th>\n",
       "      <td>582</td>\n",
       "      <td>2</td>\n",
       "      <td>No</td>\n",
       "      <td>500</td>\n",
       "    </tr>\n",
       "    <tr>\n",
       "      <th>Loan_Amount_Term</th>\n",
       "      <td>600.0</td>\n",
       "      <td>10.0</td>\n",
       "      <td>360.0</td>\n",
       "      <td>512.0</td>\n",
       "    </tr>\n",
       "    <tr>\n",
       "      <th>Credit_History</th>\n",
       "      <td>564.0</td>\n",
       "      <td>2.0</td>\n",
       "      <td>1.0</td>\n",
       "      <td>475.0</td>\n",
       "    </tr>\n",
       "    <tr>\n",
       "      <th>Property_Area</th>\n",
       "      <td>614</td>\n",
       "      <td>3</td>\n",
       "      <td>Semiurban</td>\n",
       "      <td>233</td>\n",
       "    </tr>\n",
       "    <tr>\n",
       "      <th>Loan_Status</th>\n",
       "      <td>614</td>\n",
       "      <td>2</td>\n",
       "      <td>Y</td>\n",
       "      <td>422</td>\n",
       "    </tr>\n",
       "  </tbody>\n",
       "</table>\n",
       "</div>"
      ],
      "text/plain": [
       "                  count unique        top   freq\n",
       "Gender              601      2       Male    489\n",
       "Married             611      2        Yes    398\n",
       "Education           614      2   Graduate    480\n",
       "Self_Employed       582      2         No    500\n",
       "Loan_Amount_Term  600.0   10.0      360.0  512.0\n",
       "Credit_History    564.0    2.0        1.0  475.0\n",
       "Property_Area       614      3  Semiurban    233\n",
       "Loan_Status         614      2          Y    422"
      ]
     },
     "execution_count": 135,
     "metadata": {},
     "output_type": "execute_result"
    }
   ],
   "source": [
    "loan_pr[obj].describe().T"
   ]
  },
  {
   "cell_type": "code",
   "execution_count": 1,
   "id": "4b8b6728",
   "metadata": {},
   "outputs": [],
   "source": [
    "# check if there's any null data in numerical parts or object part\n",
    "#as we can see below yes ther are some null datas in both . we will clean it below"
   ]
  },
  {
   "cell_type": "code",
   "execution_count": 136,
   "id": "6a1eb569",
   "metadata": {},
   "outputs": [
    {
     "data": {
      "text/plain": [
       "Dependents           15\n",
       "ApplicantIncome       0\n",
       "CoapplicantIncome     0\n",
       "LoanAmount           22\n",
       "dtype: int64"
      ]
     },
     "execution_count": 136,
     "metadata": {},
     "output_type": "execute_result"
    }
   ],
   "source": [
    "loan_pr[num].isnull().sum()"
   ]
  },
  {
   "cell_type": "code",
   "execution_count": 137,
   "id": "b7c6a212",
   "metadata": {},
   "outputs": [
    {
     "data": {
      "text/plain": [
       "Gender              13\n",
       "Married              3\n",
       "Education            0\n",
       "Self_Employed       32\n",
       "Loan_Amount_Term    14\n",
       "Credit_History      50\n",
       "Property_Area        0\n",
       "Loan_Status          0\n",
       "dtype: int64"
      ]
     },
     "execution_count": 137,
     "metadata": {},
     "output_type": "execute_result"
    }
   ],
   "source": [
    "loan_pr[obj].isnull().sum()"
   ]
  },
  {
   "cell_type": "code",
   "execution_count": null,
   "id": "2091a800",
   "metadata": {},
   "outputs": [],
   "source": [
    "# we will convert the loan status to int 64 and then covert yes and no to 1 and 0 ."
   ]
  },
  {
   "cell_type": "code",
   "execution_count": 138,
   "id": "44cdd79a",
   "metadata": {},
   "outputs": [],
   "source": [
    "loan_pr['Loan_Status']=np.where(loan_pr['Loan_Status']=='Y',1,loan_pr['Loan_Status'])\n",
    "loan_pr['Loan_Status']=np.where(loan_pr['Loan_Status']=='N',0,loan_pr['Loan_Status'])\n",
    "loan_pr['Loan_Status']=loan_pr['Loan_Status'].astype('int64')"
   ]
  },
  {
   "cell_type": "code",
   "execution_count": null,
   "id": "a7867fd0",
   "metadata": {},
   "outputs": [],
   "source": [
    "#Looking at the data visualizztion part of the dataset"
   ]
  },
  {
   "cell_type": "code",
   "execution_count": 139,
   "id": "5235799d",
   "metadata": {},
   "outputs": [
    {
     "data": {
      "image/png": "[encoded data removed]",
      "text/plain": [
       "<Figure size 576x432 with 1 Axes>"
      ]
     },
     "metadata": {
      "needs_background": "light"
     },
     "output_type": "display_data"
    },
    {
     "data": {
      "image/png": "[encoded data removed]",
      "text/plain": [
       "<Figure size 576x432 with 1 Axes>"
      ]
     },
     "metadata": {
      "needs_background": "light"
     },
     "output_type": "display_data"
    },
    {
     "data": {
      "image/png": "[encoded data removed]",
      "text/plain": [
       "<Figure size 576x432 with 1 Axes>"
      ]
     },
     "metadata": {
      "needs_background": "light"
     },
     "output_type": "display_data"
    },
    {
     "data": {
      "image/png": "[encoded data removed]",
      "text/plain": [
       "<Figure size 576x432 with 1 Axes>"
      ]
     },
     "metadata": {
      "needs_background": "light"
     },
     "output_type": "display_data"
    }
   ],
   "source": [
    "for i in loan_pr[num]:\n",
    "    plt.figure(figsize=(8,6))\n",
    "    sb.histplot(loan_pr[i],kde=True)"
   ]
  },
  {
   "cell_type": "code",
   "execution_count": null,
   "id": "11c4f08e",
   "metadata": {},
   "outputs": [],
   "source": [
    "#checking the univaritive data (as in answer is 1 0r 0 )"
   ]
  },
  {
   "cell_type": "code",
   "execution_count": 140,
   "id": "007ed9c6",
   "metadata": {},
   "outputs": [
    {
     "data": {
      "image/png": "[encoded data removed]",
      "text/plain": [
       "<Figure size 432x288 with 1 Axes>"
      ]
     },
     "metadata": {},
     "output_type": "display_data"
    },
    {
     "data": {
      "image/png": "[encoded data removed]",
      "text/plain": [
       "<Figure size 432x288 with 1 Axes>"
      ]
     },
     "metadata": {
      "needs_background": "light"
     },
     "output_type": "display_data"
    }
   ],
   "source": [
    "plt.subplot(1,1,1)\n",
    "loan_pr['Loan_Status'].value_counts().plot.pie(explode=[0,0.1],autopct='%1.1f%%')\n",
    "plt.show()\n",
    "plt.subplot(1,2,2)\n",
    "sb.countplot(loan_pr['Loan_Status'])\n",
    "plt.show()\n",
    "#checking the loan status in the form of a pie chart\n",
    "\n",
    "# as we can see 68.7% of the Loans get approved while 31.3% get rejected"
   ]
  },
  {
   "cell_type": "code",
   "execution_count": null,
   "id": "13288cb2",
   "metadata": {},
   "outputs": [],
   "source": [
    "#checking the gender distribution for loan \n",
    "\n",
    "# as we can see #81.4%  are Male ."
   ]
  },
  {
   "cell_type": "code",
   "execution_count": 141,
   "id": "cc8a1595",
   "metadata": {},
   "outputs": [
    {
     "data": {
      "image/png": "[encoded data removed]",
      "text/plain": [
       "<Figure size 432x288 with 1 Axes>"
      ]
     },
     "metadata": {},
     "output_type": "display_data"
    },
    {
     "data": {
      "image/png": "[encoded data removed]",
      "text/plain": [
       "<Figure size 432x288 with 1 Axes>"
      ]
     },
     "metadata": {
      "needs_background": "light"
     },
     "output_type": "display_data"
    }
   ],
   "source": [
    "loan_pr['Gender'].value_counts().plot.pie(explode=[0,0.1],autopct='%1.1f%%')\n",
    "plt.show()\n",
    "sb.countplot(loan_pr['Gender'])\n",
    "plt.show()"
   ]
  },
  {
   "cell_type": "code",
   "execution_count": null,
   "id": "10c9efc1",
   "metadata": {},
   "outputs": [],
   "source": [
    "#checking the self employed distribution in the data set\n",
    "\n",
    "##85.9%  are Self_Employed"
   ]
  },
  {
   "cell_type": "code",
   "execution_count": 142,
   "id": "3bc7ab4d",
   "metadata": {},
   "outputs": [
    {
     "data": {
      "image/png": "[encoded data removed]",
      "text/plain": [
       "<Figure size 432x288 with 1 Axes>"
      ]
     },
     "metadata": {},
     "output_type": "display_data"
    },
    {
     "data": {
      "image/png": "[encoded data removed]",
      "text/plain": [
       "<Figure size 432x288 with 1 Axes>"
      ]
     },
     "metadata": {
      "needs_background": "light"
     },
     "output_type": "display_data"
    }
   ],
   "source": [
    "loan_pr['Self_Employed'].value_counts().plot.pie(explode=[0,0.1],autopct='%1.1f%%')\n",
    "plt.show()\n",
    "sb.countplot(loan_pr['Self_Employed'])\n",
    "plt.show()"
   ]
  },
  {
   "cell_type": "code",
   "execution_count": null,
   "id": "bff5ee3f",
   "metadata": {},
   "outputs": [],
   "source": [
    "# checking the dependents distribution in the data set\n",
    "\n",
    "# 57.6%  have no dependnts\n",
    "# Most of them have no dependents"
   ]
  },
  {
   "cell_type": "code",
   "execution_count": 143,
   "id": "00682bc7",
   "metadata": {},
   "outputs": [
    {
     "data": {
      "image/png": "[encoded data removed]",
      "text/plain": [
       "<Figure size 432x288 with 1 Axes>"
      ]
     },
     "metadata": {},
     "output_type": "display_data"
    },
    {
     "data": {
      "image/png": "[encoded data removed]",
      "text/plain": [
       "<Figure size 432x288 with 1 Axes>"
      ]
     },
     "metadata": {
      "needs_background": "light"
     },
     "output_type": "display_data"
    }
   ],
   "source": [
    "loan_pr['Dependents'].value_counts().plot.pie(autopct='%1.1f%%')\n",
    "plt.show()\n",
    "sb.countplot(loan_pr['Dependents'])\n",
    "plt.show()"
   ]
  },
  {
   "cell_type": "code",
   "execution_count": null,
   "id": "2519713d",
   "metadata": {},
   "outputs": [],
   "source": []
  },
  {
   "cell_type": "code",
   "execution_count": 144,
   "id": "a3c6daa9",
   "metadata": {},
   "outputs": [
    {
     "data": {
      "image/png": "[encoded data removed]",
      "text/plain": [
       "<Figure size 432x288 with 1 Axes>"
      ]
     },
     "metadata": {},
     "output_type": "display_data"
    },
    {
     "data": {
      "image/png": "[encoded data removed]",
      "text/plain": [
       "<Figure size 432x288 with 1 Axes>"
      ]
     },
     "metadata": {
      "needs_background": "light"
     },
     "output_type": "display_data"
    }
   ],
   "source": [
    "loan_pr['Dependents'].value_counts().plot.pie(autopct='%1.1f%%')\n",
    "plt.show()\n",
    "sb.countplot(loan_pr['Dependents'])\n",
    "plt.show()"
   ]
  },
  {
   "cell_type": "code",
   "execution_count": null,
   "id": "b38eb5ba",
   "metadata": {},
   "outputs": [],
   "source": [
    "#checking the people from educational background ditribution int the data set\n",
    "\n",
    "#78.2%  are Graduates which means educated"
   ]
  },
  {
   "cell_type": "code",
   "execution_count": 145,
   "id": "e9d94e54",
   "metadata": {
    "scrolled": true
   },
   "outputs": [
    {
     "data": {
      "image/png": "[encoded data removed]",
      "text/plain": [
       "<Figure size 432x288 with 1 Axes>"
      ]
     },
     "metadata": {},
     "output_type": "display_data"
    },
    {
     "data": {
      "text/plain": [
       "<AxesSubplot:xlabel='Education', ylabel='count'>"
      ]
     },
     "execution_count": 145,
     "metadata": {},
     "output_type": "execute_result"
    },
    {
     "data": {
      "image/png": "[encoded data removed]",
      "text/plain": [
       "<Figure size 432x288 with 1 Axes>"
      ]
     },
     "metadata": {
      "needs_background": "light"
     },
     "output_type": "display_data"
    }
   ],
   "source": [
    "loan_pr['Education'].value_counts().plot.pie(explode=[0,0.1],autopct='%1.1f%%')\n",
    "plt.show()\n",
    "sb.countplot(loan_pr['Education'])"
   ]
  },
  {
   "cell_type": "code",
   "execution_count": null,
   "id": "290aabd3",
   "metadata": {},
   "outputs": [],
   "source": [
    "#checking the property area distribution in the data set\n",
    "\n",
    "# Most of them are from Urban  or Semiurban Area"
   ]
  },
  {
   "cell_type": "code",
   "execution_count": 146,
   "id": "997d8941",
   "metadata": {},
   "outputs": [
    {
     "data": {
      "image/png": "[encoded data removed]",
      "text/plain": [
       "<Figure size 432x288 with 1 Axes>"
      ]
     },
     "metadata": {},
     "output_type": "display_data"
    },
    {
     "data": {
      "image/png": "[encoded data removed]",
      "text/plain": [
       "<Figure size 432x288 with 1 Axes>"
      ]
     },
     "metadata": {
      "needs_background": "light"
     },
     "output_type": "display_data"
    }
   ],
   "source": [
    "loan_pr['Property_Area'].value_counts().plot.pie(autopct='%1.1f%%')\n",
    "plt.show()\n",
    "sb.countplot(loan_pr['Property_Area'])\n",
    "plt.show()"
   ]
  },
  {
   "cell_type": "code",
   "execution_count": null,
   "id": "e3bc0fdc",
   "metadata": {},
   "outputs": [],
   "source": [
    "#checking the apporaval rate of loan acccording to gender"
   ]
  },
  {
   "cell_type": "code",
   "execution_count": 147,
   "id": "b1e6efee",
   "metadata": {},
   "outputs": [
    {
     "data": {
      "image/png": "[encoded data removed]",
      "text/plain": [
       "<Figure size 432x288 with 1 Axes>"
      ]
     },
     "metadata": {
      "needs_background": "light"
     },
     "output_type": "display_data"
    }
   ],
   "source": [
    "sb.countplot(loan_pr['Gender'],hue=loan_pr['Loan_Status'])\n",
    "plt.show()"
   ]
  },
  {
   "cell_type": "code",
   "execution_count": null,
   "id": "cbfb4553",
   "metadata": {},
   "outputs": [],
   "source": [
    "#seeing the numbers to find the approaval percentage later"
   ]
  },
  {
   "cell_type": "code",
   "execution_count": 148,
   "id": "dfd3534c",
   "metadata": {},
   "outputs": [
    {
     "data": {
      "text/html": [
       "<div>\n",
       "<style scoped>\n",
       "    .dataframe tbody tr th:only-of-type {\n",
       "        vertical-align: middle;\n",
       "    }\n",
       "\n",
       "    .dataframe tbody tr th {\n",
       "        vertical-align: top;\n",
       "    }\n",
       "\n",
       "    .dataframe thead th {\n",
       "        text-align: right;\n",
       "    }\n",
       "</style>\n",
       "<table border=\"1\" class=\"dataframe\">\n",
       "  <thead>\n",
       "    <tr style=\"text-align: right;\">\n",
       "      <th>Loan_Status</th>\n",
       "      <th>0</th>\n",
       "      <th>1</th>\n",
       "      <th>All</th>\n",
       "    </tr>\n",
       "    <tr>\n",
       "      <th>Gender</th>\n",
       "      <th></th>\n",
       "      <th></th>\n",
       "      <th></th>\n",
       "    </tr>\n",
       "  </thead>\n",
       "  <tbody>\n",
       "    <tr>\n",
       "      <th>Female</th>\n",
       "      <td>37</td>\n",
       "      <td>75</td>\n",
       "      <td>112</td>\n",
       "    </tr>\n",
       "    <tr>\n",
       "      <th>Male</th>\n",
       "      <td>150</td>\n",
       "      <td>339</td>\n",
       "      <td>489</td>\n",
       "    </tr>\n",
       "    <tr>\n",
       "      <th>All</th>\n",
       "      <td>187</td>\n",
       "      <td>414</td>\n",
       "      <td>601</td>\n",
       "    </tr>\n",
       "  </tbody>\n",
       "</table>\n",
       "</div>"
      ],
      "text/plain": [
       "Loan_Status    0    1  All\n",
       "Gender                    \n",
       "Female        37   75  112\n",
       "Male         150  339  489\n",
       "All          187  414  601"
      ]
     },
     "execution_count": 148,
     "metadata": {},
     "output_type": "execute_result"
    }
   ],
   "source": [
    "pd.crosstab(loan_pr['Gender'],loan_pr['Loan_Status'],margins=True)"
   ]
  },
  {
   "cell_type": "code",
   "execution_count": null,
   "id": "2a27b390",
   "metadata": {},
   "outputs": [],
   "source": [
    "#checking the approval rate\n",
    "\n",
    "#Although Female Applicants are much less, does not mean that their Loans are less likely to be approved."
   ]
  },
  {
   "cell_type": "code",
   "execution_count": 149,
   "id": "67f369f4",
   "metadata": {},
   "outputs": [
    {
     "name": "stdout",
     "output_type": "stream",
     "text": [
      "Approaval rate of Loans of Male Applicants 0.69\n",
      "Approaval rate of Loans of Female Applicants 0.67\n"
     ]
    }
   ],
   "source": [
    "print('Approaval rate of Loans of Male Applicants',np.round(339/489,2))\n",
    "print('Approaval rate of Loans of Female Applicants',np.round(75/112,2))"
   ]
  },
  {
   "cell_type": "code",
   "execution_count": null,
   "id": "ebb551fe",
   "metadata": {},
   "outputs": [],
   "source": [
    "# checking the apporaval rate of loan acccording to marital status"
   ]
  },
  {
   "cell_type": "code",
   "execution_count": 150,
   "id": "ac8de788",
   "metadata": {},
   "outputs": [
    {
     "data": {
      "image/png": "[encoded data removed]",
      "text/plain": [
       "<Figure size 432x288 with 1 Axes>"
      ]
     },
     "metadata": {
      "needs_background": "light"
     },
     "output_type": "display_data"
    }
   ],
   "source": [
    "sb.countplot(loan_pr['Married'],hue=loan_pr['Loan_Status'])\n",
    "plt.show()"
   ]
  },
  {
   "cell_type": "code",
   "execution_count": null,
   "id": "75c97447",
   "metadata": {},
   "outputs": [],
   "source": [
    "#determing the numbers to find the rate later "
   ]
  },
  {
   "cell_type": "code",
   "execution_count": 151,
   "id": "0dd9d67c",
   "metadata": {},
   "outputs": [
    {
     "data": {
      "text/html": [
       "<div>\n",
       "<style scoped>\n",
       "    .dataframe tbody tr th:only-of-type {\n",
       "        vertical-align: middle;\n",
       "    }\n",
       "\n",
       "    .dataframe tbody tr th {\n",
       "        vertical-align: top;\n",
       "    }\n",
       "\n",
       "    .dataframe thead th {\n",
       "        text-align: right;\n",
       "    }\n",
       "</style>\n",
       "<table border=\"1\" class=\"dataframe\">\n",
       "  <thead>\n",
       "    <tr style=\"text-align: right;\">\n",
       "      <th>Loan_Status</th>\n",
       "      <th>0</th>\n",
       "      <th>1</th>\n",
       "      <th>All</th>\n",
       "    </tr>\n",
       "    <tr>\n",
       "      <th>Married</th>\n",
       "      <th></th>\n",
       "      <th></th>\n",
       "      <th></th>\n",
       "    </tr>\n",
       "  </thead>\n",
       "  <tbody>\n",
       "    <tr>\n",
       "      <th>No</th>\n",
       "      <td>79</td>\n",
       "      <td>134</td>\n",
       "      <td>213</td>\n",
       "    </tr>\n",
       "    <tr>\n",
       "      <th>Yes</th>\n",
       "      <td>113</td>\n",
       "      <td>285</td>\n",
       "      <td>398</td>\n",
       "    </tr>\n",
       "    <tr>\n",
       "      <th>All</th>\n",
       "      <td>192</td>\n",
       "      <td>419</td>\n",
       "      <td>611</td>\n",
       "    </tr>\n",
       "  </tbody>\n",
       "</table>\n",
       "</div>"
      ],
      "text/plain": [
       "Loan_Status    0    1  All\n",
       "Married                   \n",
       "No            79  134  213\n",
       "Yes          113  285  398\n",
       "All          192  419  611"
      ]
     },
     "execution_count": 151,
     "metadata": {},
     "output_type": "execute_result"
    }
   ],
   "source": [
    "pd.crosstab(loan_pr['Married'],loan_pr['Loan_Status'],margins=True)"
   ]
  },
  {
   "cell_type": "code",
   "execution_count": null,
   "id": "e421f202",
   "metadata": {},
   "outputs": [],
   "source": [
    "# finding and printing  the approval data for the marital status \n",
    "\n",
    "##Loans of Married Applicants are more likely to be approved"
   ]
  },
  {
   "cell_type": "code",
   "execution_count": 152,
   "id": "996b5632",
   "metadata": {},
   "outputs": [
    {
     "name": "stdout",
     "output_type": "stream",
     "text": [
      "Approaval rate of Loans of Married Applicants 0.72\n",
      "Approaval rate of Loans of Non-Married Applicants 0.63\n"
     ]
    }
   ],
   "source": [
    "print('Approaval rate of Loans of Married Applicants',np.round(285/398,2))\n",
    "print('Approaval rate of Loans of Non-Married Applicants',np.round(134/213,2))"
   ]
  },
  {
   "cell_type": "code",
   "execution_count": null,
   "id": "66b04a64",
   "metadata": {},
   "outputs": [],
   "source": []
  },
  {
   "cell_type": "code",
   "execution_count": null,
   "id": "e382f533",
   "metadata": {},
   "outputs": [],
   "source": [
    "# checking the apporaval rate of loan acccording to dependents "
   ]
  },
  {
   "cell_type": "code",
   "execution_count": 153,
   "id": "e0d35300",
   "metadata": {},
   "outputs": [
    {
     "data": {
      "image/png": "[encoded data removed]",
      "text/plain": [
       "<Figure size 432x288 with 1 Axes>"
      ]
     },
     "metadata": {
      "needs_background": "light"
     },
     "output_type": "display_data"
    }
   ],
   "source": [
    "sb.countplot(loan_pr['Dependents'],hue=loan_pr['Loan_Status'])\n",
    "plt.show()"
   ]
  },
  {
   "cell_type": "code",
   "execution_count": null,
   "id": "0e3308f7",
   "metadata": {},
   "outputs": [],
   "source": [
    "# determing the numbers for finding the dependents approval rate later "
   ]
  },
  {
   "cell_type": "code",
   "execution_count": 154,
   "id": "00bc7a79",
   "metadata": {},
   "outputs": [
    {
     "data": {
      "text/html": [
       "<div>\n",
       "<style scoped>\n",
       "    .dataframe tbody tr th:only-of-type {\n",
       "        vertical-align: middle;\n",
       "    }\n",
       "\n",
       "    .dataframe tbody tr th {\n",
       "        vertical-align: top;\n",
       "    }\n",
       "\n",
       "    .dataframe thead th {\n",
       "        text-align: right;\n",
       "    }\n",
       "</style>\n",
       "<table border=\"1\" class=\"dataframe\">\n",
       "  <thead>\n",
       "    <tr style=\"text-align: right;\">\n",
       "      <th>Loan_Status</th>\n",
       "      <th>0</th>\n",
       "      <th>1</th>\n",
       "      <th>All</th>\n",
       "    </tr>\n",
       "    <tr>\n",
       "      <th>Dependents</th>\n",
       "      <th></th>\n",
       "      <th></th>\n",
       "      <th></th>\n",
       "    </tr>\n",
       "  </thead>\n",
       "  <tbody>\n",
       "    <tr>\n",
       "      <th>0.0</th>\n",
       "      <td>0.178631</td>\n",
       "      <td>0.397329</td>\n",
       "      <td>0.575960</td>\n",
       "    </tr>\n",
       "    <tr>\n",
       "      <th>1.0</th>\n",
       "      <td>0.060100</td>\n",
       "      <td>0.110184</td>\n",
       "      <td>0.170284</td>\n",
       "    </tr>\n",
       "    <tr>\n",
       "      <th>2.0</th>\n",
       "      <td>0.041736</td>\n",
       "      <td>0.126878</td>\n",
       "      <td>0.168614</td>\n",
       "    </tr>\n",
       "    <tr>\n",
       "      <th>3.0</th>\n",
       "      <td>0.030050</td>\n",
       "      <td>0.055092</td>\n",
       "      <td>0.085142</td>\n",
       "    </tr>\n",
       "    <tr>\n",
       "      <th>All</th>\n",
       "      <td>0.310518</td>\n",
       "      <td>0.689482</td>\n",
       "      <td>1.000000</td>\n",
       "    </tr>\n",
       "  </tbody>\n",
       "</table>\n",
       "</div>"
      ],
      "text/plain": [
       "Loan_Status         0         1       All\n",
       "Dependents                               \n",
       "0.0          0.178631  0.397329  0.575960\n",
       "1.0          0.060100  0.110184  0.170284\n",
       "2.0          0.041736  0.126878  0.168614\n",
       "3.0          0.030050  0.055092  0.085142\n",
       "All          0.310518  0.689482  1.000000"
      ]
     },
     "execution_count": 154,
     "metadata": {},
     "output_type": "execute_result"
    }
   ],
   "source": [
    "pd.crosstab(loan_pr['Dependents'],loan_pr['Loan_Status'],margins=True,normalize=True)"
   ]
  },
  {
   "cell_type": "code",
   "execution_count": null,
   "id": "5232c9a8",
   "metadata": {},
   "outputs": [],
   "source": [
    "#Applicants with 0 Dependents have more chances of Loan Approval, while 3+ Dependents have very low chances"
   ]
  },
  {
   "cell_type": "code",
   "execution_count": null,
   "id": "e857fba1",
   "metadata": {},
   "outputs": [],
   "source": [
    "# checking the apporaval rate of loan acccording to education"
   ]
  },
  {
   "cell_type": "code",
   "execution_count": 155,
   "id": "07a100b7",
   "metadata": {},
   "outputs": [
    {
     "data": {
      "image/png": "[encoded data removed]",
      "text/plain": [
       "<Figure size 432x288 with 1 Axes>"
      ]
     },
     "metadata": {
      "needs_background": "light"
     },
     "output_type": "display_data"
    }
   ],
   "source": [
    "sb.countplot(loan_pr['Education'],hue=loan_pr['Loan_Status'])\n",
    "plt.show()"
   ]
  },
  {
   "cell_type": "code",
   "execution_count": null,
   "id": "886e408f",
   "metadata": {},
   "outputs": [],
   "source": [
    "# determing the numbers for finding the edcational dataset  approval rate later"
   ]
  },
  {
   "cell_type": "code",
   "execution_count": 156,
   "id": "89447b66",
   "metadata": {},
   "outputs": [
    {
     "data": {
      "text/html": [
       "<div>\n",
       "<style scoped>\n",
       "    .dataframe tbody tr th:only-of-type {\n",
       "        vertical-align: middle;\n",
       "    }\n",
       "\n",
       "    .dataframe tbody tr th {\n",
       "        vertical-align: top;\n",
       "    }\n",
       "\n",
       "    .dataframe thead th {\n",
       "        text-align: right;\n",
       "    }\n",
       "</style>\n",
       "<table border=\"1\" class=\"dataframe\">\n",
       "  <thead>\n",
       "    <tr style=\"text-align: right;\">\n",
       "      <th>Loan_Status</th>\n",
       "      <th>0</th>\n",
       "      <th>1</th>\n",
       "      <th>All</th>\n",
       "    </tr>\n",
       "    <tr>\n",
       "      <th>Education</th>\n",
       "      <th></th>\n",
       "      <th></th>\n",
       "      <th></th>\n",
       "    </tr>\n",
       "  </thead>\n",
       "  <tbody>\n",
       "    <tr>\n",
       "      <th>Graduate</th>\n",
       "      <td>140</td>\n",
       "      <td>340</td>\n",
       "      <td>480</td>\n",
       "    </tr>\n",
       "    <tr>\n",
       "      <th>Not Graduate</th>\n",
       "      <td>52</td>\n",
       "      <td>82</td>\n",
       "      <td>134</td>\n",
       "    </tr>\n",
       "    <tr>\n",
       "      <th>All</th>\n",
       "      <td>192</td>\n",
       "      <td>422</td>\n",
       "      <td>614</td>\n",
       "    </tr>\n",
       "  </tbody>\n",
       "</table>\n",
       "</div>"
      ],
      "text/plain": [
       "Loan_Status     0    1  All\n",
       "Education                  \n",
       "Graduate      140  340  480\n",
       "Not Graduate   52   82  134\n",
       "All           192  422  614"
      ]
     },
     "execution_count": 156,
     "metadata": {},
     "output_type": "execute_result"
    }
   ],
   "source": [
    "pd.crosstab(loan_pr['Education'],loan_pr['Loan_Status'],margins=True)"
   ]
  },
  {
   "cell_type": "code",
   "execution_count": 157,
   "id": "042451f2",
   "metadata": {},
   "outputs": [
    {
     "name": "stdout",
     "output_type": "stream",
     "text": [
      "Approaval rate of Loans of Graduate Applicants 0.71\n",
      "Approaval rate of Loans of Not Graduate Applicants 0.61\n"
     ]
    }
   ],
   "source": [
    "print('Approval rate of Loans of Graduate Applicants',np.round(340/480,2))\n",
    "print('Approval rate of Loans of Not Graduate Applicants',np.round(82/134,2))"
   ]
  },
  {
   "cell_type": "code",
   "execution_count": null,
   "id": "f1de732e",
   "metadata": {},
   "outputs": [],
   "source": [
    "# Loans of Graduate Applicants are more likely to get approved"
   ]
  },
  {
   "cell_type": "code",
   "execution_count": null,
   "id": "81de5e9b",
   "metadata": {},
   "outputs": [],
   "source": [
    "# checking the apporaval rate of loan acccording to credit history"
   ]
  },
  {
   "cell_type": "code",
   "execution_count": 158,
   "id": "08abfe19",
   "metadata": {},
   "outputs": [
    {
     "data": {
      "image/png": "[encoded data removed]",
      "text/plain": [
       "<Figure size 432x288 with 1 Axes>"
      ]
     },
     "metadata": {
      "needs_background": "light"
     },
     "output_type": "display_data"
    }
   ],
   "source": [
    "sb.countplot(loan_pr['Credit_History'],hue=loan_pr['Loan_Status'])\n",
    "plt.show()"
   ]
  },
  {
   "cell_type": "code",
   "execution_count": 159,
   "id": "9b5ab574",
   "metadata": {},
   "outputs": [
    {
     "data": {
      "text/html": [
       "<div>\n",
       "<style scoped>\n",
       "    .dataframe tbody tr th:only-of-type {\n",
       "        vertical-align: middle;\n",
       "    }\n",
       "\n",
       "    .dataframe tbody tr th {\n",
       "        vertical-align: top;\n",
       "    }\n",
       "\n",
       "    .dataframe thead th {\n",
       "        text-align: right;\n",
       "    }\n",
       "</style>\n",
       "<table border=\"1\" class=\"dataframe\">\n",
       "  <thead>\n",
       "    <tr style=\"text-align: right;\">\n",
       "      <th>Loan_Status</th>\n",
       "      <th>0</th>\n",
       "      <th>1</th>\n",
       "      <th>All</th>\n",
       "    </tr>\n",
       "    <tr>\n",
       "      <th>Credit_History</th>\n",
       "      <th></th>\n",
       "      <th></th>\n",
       "      <th></th>\n",
       "    </tr>\n",
       "  </thead>\n",
       "  <tbody>\n",
       "    <tr>\n",
       "      <th>0.0</th>\n",
       "      <td>82</td>\n",
       "      <td>7</td>\n",
       "      <td>89</td>\n",
       "    </tr>\n",
       "    <tr>\n",
       "      <th>1.0</th>\n",
       "      <td>97</td>\n",
       "      <td>378</td>\n",
       "      <td>475</td>\n",
       "    </tr>\n",
       "    <tr>\n",
       "      <th>All</th>\n",
       "      <td>179</td>\n",
       "      <td>385</td>\n",
       "      <td>564</td>\n",
       "    </tr>\n",
       "  </tbody>\n",
       "</table>\n",
       "</div>"
      ],
      "text/plain": [
       "Loan_Status       0    1  All\n",
       "Credit_History               \n",
       "0.0              82    7   89\n",
       "1.0              97  378  475\n",
       "All             179  385  564"
      ]
     },
     "execution_count": 159,
     "metadata": {},
     "output_type": "execute_result"
    }
   ],
   "source": [
    "pd.crosstab(loan_pr['Credit_History'],loan_pr['Loan_Status'],margins=True)"
   ]
  },
  {
   "cell_type": "code",
   "execution_count": 160,
   "id": "01bc263e",
   "metadata": {},
   "outputs": [
    {
     "name": "stdout",
     "output_type": "stream",
     "text": [
      "Approaval rate of Loans for Applicants who do not have credit history 0.08\n",
      "Approaval rate of Loans for Applicants who have credit history  0.8\n"
     ]
    }
   ],
   "source": [
    "print('Approaval rate of Loans for Applicants who do not have credit history',np.round(7/89,2))\n",
    "print('Approaval rate of Loans for Applicants who have credit history ',np.round(378/475,2))"
   ]
  },
  {
   "cell_type": "code",
   "execution_count": null,
   "id": "cb94efd2",
   "metadata": {},
   "outputs": [],
   "source": [
    "## determing the numbers for finding the credit history dataset  approval rate later\n",
    "# as we can see people having credit histroy are far mire likely to get approved"
   ]
  },
  {
   "cell_type": "code",
   "execution_count": null,
   "id": "15d55a36",
   "metadata": {},
   "outputs": [],
   "source": [
    "# checking the apporaval rate of loan acccording to property area \n",
    "\n",
    "# then we again determined the numbers for it so we can use it later\n",
    "\n",
    "# as we will see people from semi urban area have more chance to get loan approved"
   ]
  },
  {
   "cell_type": "code",
   "execution_count": 161,
   "id": "6871f609",
   "metadata": {},
   "outputs": [
    {
     "data": {
      "image/png": "[encoded data removed]",
      "text/plain": [
       "<Figure size 432x288 with 1 Axes>"
      ]
     },
     "metadata": {
      "needs_background": "light"
     },
     "output_type": "display_data"
    }
   ],
   "source": [
    "sb.countplot(loan_pr['Property_Area'],hue=loan_pr['Loan_Status'])\n",
    "plt.show()"
   ]
  },
  {
   "cell_type": "code",
   "execution_count": 162,
   "id": "3c7d9f6a",
   "metadata": {},
   "outputs": [
    {
     "data": {
      "text/html": [
       "<div>\n",
       "<style scoped>\n",
       "    .dataframe tbody tr th:only-of-type {\n",
       "        vertical-align: middle;\n",
       "    }\n",
       "\n",
       "    .dataframe tbody tr th {\n",
       "        vertical-align: top;\n",
       "    }\n",
       "\n",
       "    .dataframe thead th {\n",
       "        text-align: right;\n",
       "    }\n",
       "</style>\n",
       "<table border=\"1\" class=\"dataframe\">\n",
       "  <thead>\n",
       "    <tr style=\"text-align: right;\">\n",
       "      <th>Loan_Status</th>\n",
       "      <th>0</th>\n",
       "      <th>1</th>\n",
       "      <th>All</th>\n",
       "    </tr>\n",
       "    <tr>\n",
       "      <th>Property_Area</th>\n",
       "      <th></th>\n",
       "      <th></th>\n",
       "      <th></th>\n",
       "    </tr>\n",
       "  </thead>\n",
       "  <tbody>\n",
       "    <tr>\n",
       "      <th>Rural</th>\n",
       "      <td>69</td>\n",
       "      <td>110</td>\n",
       "      <td>179</td>\n",
       "    </tr>\n",
       "    <tr>\n",
       "      <th>Semiurban</th>\n",
       "      <td>54</td>\n",
       "      <td>179</td>\n",
       "      <td>233</td>\n",
       "    </tr>\n",
       "    <tr>\n",
       "      <th>Urban</th>\n",
       "      <td>69</td>\n",
       "      <td>133</td>\n",
       "      <td>202</td>\n",
       "    </tr>\n",
       "    <tr>\n",
       "      <th>All</th>\n",
       "      <td>192</td>\n",
       "      <td>422</td>\n",
       "      <td>614</td>\n",
       "    </tr>\n",
       "  </tbody>\n",
       "</table>\n",
       "</div>"
      ],
      "text/plain": [
       "Loan_Status      0    1  All\n",
       "Property_Area               \n",
       "Rural           69  110  179\n",
       "Semiurban       54  179  233\n",
       "Urban           69  133  202\n",
       "All            192  422  614"
      ]
     },
     "execution_count": 162,
     "metadata": {},
     "output_type": "execute_result"
    }
   ],
   "source": [
    "pd.crosstab(loan_pr['Property_Area'],loan_pr['Loan_Status'],margins=True)"
   ]
  },
  {
   "cell_type": "code",
   "execution_count": 163,
   "id": "9c0e5c5b",
   "metadata": {},
   "outputs": [
    {
     "name": "stdout",
     "output_type": "stream",
     "text": [
      "Approaval rate for Rural Area 0.61\n",
      "Approaval rate for Semiurban Area 0.77\n",
      "Approaval rate for  from Urban Area 0.66\n"
     ]
    }
   ],
   "source": [
    "print('Approaval rate for Rural Area',np.round(110/179,2))\n",
    "print('Approaval rate for Semiurban Area',np.round(179/233,2))\n",
    "print('Approaval rate for  from Urban Area',np.round(133/202,2))"
   ]
  },
  {
   "cell_type": "code",
   "execution_count": null,
   "id": "44516b7b",
   "metadata": {},
   "outputs": [],
   "source": [
    "# checking the apporaval rate of loan acccording to applicants income  \n",
    "\n",
    "# then we again determined the numbers for it so we can use it later\n",
    "\n",
    "#as in the graph we will expect people with average income to get appoved more but \n",
    "# when seen in bar plot its can be seen as nothing much can be decided "
   ]
  },
  {
   "cell_type": "code",
   "execution_count": 164,
   "id": "e020afd6",
   "metadata": {},
   "outputs": [
    {
     "data": {
      "text/plain": [
       "<AxesSubplot:xlabel='ApplicantIncome', ylabel='Density'>"
      ]
     },
     "execution_count": 164,
     "metadata": {},
     "output_type": "execute_result"
    },
    {
     "data": {
      "image/png": "[encoded data removed]",
      "text/plain": [
       "<Figure size 432x288 with 1 Axes>"
      ]
     },
     "metadata": {
      "needs_background": "light"
     },
     "output_type": "display_data"
    }
   ],
   "source": [
    "sb.kdeplot('ApplicantIncome',hue='Loan_Status',data=loan_pr)"
   ]
  },
  {
   "cell_type": "code",
   "execution_count": 165,
   "id": "083e6fff",
   "metadata": {},
   "outputs": [
    {
     "data": {
      "text/plain": [
       "<AxesSubplot:xlabel='Loan_Status', ylabel='ApplicantIncome'>"
      ]
     },
     "execution_count": 165,
     "metadata": {},
     "output_type": "execute_result"
    },
    {
     "data": {
      "image/png": "[encoded data removed]",
      "text/plain": [
       "<Figure size 432x288 with 1 Axes>"
      ]
     },
     "metadata": {
      "needs_background": "light"
     },
     "output_type": "display_data"
    }
   ],
   "source": [
    "sb.barplot('Loan_Status','ApplicantIncome',data=loan_pr)"
   ]
  },
  {
   "cell_type": "code",
   "execution_count": null,
   "id": "3740e313",
   "metadata": {},
   "outputs": [],
   "source": []
  },
  {
   "cell_type": "code",
   "execution_count": null,
   "id": "3e87fd76",
   "metadata": {},
   "outputs": [],
   "source": [
    "# checking the apporaval rate of loan acccording to coapplicants income  \n",
    "\n",
    "# then we again determined the numbers for it so we can use it later\n",
    "\n",
    "#as in the graph we will expect people with  coaaplicant having average income to get appoved more but \n",
    "# when seen in bar plot its can be seen as nothing much can be decided "
   ]
  },
  {
   "cell_type": "code",
   "execution_count": 166,
   "id": "d2ea36f9",
   "metadata": {},
   "outputs": [
    {
     "data": {
      "text/plain": [
       "<AxesSubplot:xlabel='CoapplicantIncome', ylabel='Density'>"
      ]
     },
     "execution_count": 166,
     "metadata": {},
     "output_type": "execute_result"
    },
    {
     "data": {
      "image/png": "[encoded data removed]",
      "text/plain": [
       "<Figure size 432x288 with 1 Axes>"
      ]
     },
     "metadata": {
      "needs_background": "light"
     },
     "output_type": "display_data"
    }
   ],
   "source": [
    "sb.kdeplot('CoapplicantIncome',hue='Loan_Status',data=loan_pr)"
   ]
  },
  {
   "cell_type": "code",
   "execution_count": 167,
   "id": "ba8b7608",
   "metadata": {},
   "outputs": [
    {
     "data": {
      "image/png": "[encoded data removed]",
      "text/plain": [
       "<Figure size 432x288 with 1 Axes>"
      ]
     },
     "metadata": {
      "needs_background": "light"
     },
     "output_type": "display_data"
    }
   ],
   "source": [
    "sb.barplot('Loan_Status','CoapplicantIncome',data=loan_pr)\n",
    "plt.show()"
   ]
  },
  {
   "cell_type": "code",
   "execution_count": null,
   "id": "689cc24a",
   "metadata": {},
   "outputs": [],
   "source": [
    "#  checking the apporaval rate of loan acccording to loan amount \n",
    "\n",
    "# then we again determined the numbers for it so we can use it later\n",
    "\n",
    "#as in the graph we will expect people with more income   to get appoved more but \n",
    "# when seen in bar plot its can be seen as nothing much can be decided "
   ]
  },
  {
   "cell_type": "code",
   "execution_count": 168,
   "id": "ae4aa939",
   "metadata": {},
   "outputs": [
    {
     "data": {
      "text/plain": [
       "<AxesSubplot:xlabel='LoanAmount', ylabel='Density'>"
      ]
     },
     "execution_count": 168,
     "metadata": {},
     "output_type": "execute_result"
    },
    {
     "data": {
      "image/png": "[encoded data removed]",
      "text/plain": [
       "<Figure size 432x288 with 1 Axes>"
      ]
     },
     "metadata": {
      "needs_background": "light"
     },
     "output_type": "display_data"
    }
   ],
   "source": [
    "sb.kdeplot('LoanAmount',hue='Loan_Status',data=loan_pr)"
   ]
  },
  {
   "cell_type": "code",
   "execution_count": null,
   "id": "89dea33e",
   "metadata": {},
   "outputs": [],
   "source": []
  },
  {
   "cell_type": "code",
   "execution_count": null,
   "id": "98a934cf",
   "metadata": {},
   "outputs": [],
   "source": [
    "#checking for Outliners  ( some data points that can cause measurement error )"
   ]
  },
  {
   "cell_type": "code",
   "execution_count": 169,
   "id": "9d078c38",
   "metadata": {},
   "outputs": [
    {
     "data": {
      "image/png": "[encoded data removed]",
      "text/plain": [
       "<Figure size 432x288 with 1 Axes>"
      ]
     },
     "metadata": {
      "needs_background": "light"
     },
     "output_type": "display_data"
    },
    {
     "data": {
      "image/png": "[encoded data removed]",
      "text/plain": [
       "<Figure size 432x288 with 1 Axes>"
      ]
     },
     "metadata": {
      "needs_background": "light"
     },
     "output_type": "display_data"
    },
    {
     "data": {
      "image/png": "[encoded data removed]",
      "text/plain": [
       "<Figure size 432x288 with 1 Axes>"
      ]
     },
     "metadata": {
      "needs_background": "light"
     },
     "output_type": "display_data"
    },
    {
     "data": {
      "image/png": "[encoded data removed]",
      "text/plain": [
       "<Figure size 432x288 with 1 Axes>"
      ]
     },
     "metadata": {
      "needs_background": "light"
     },
     "output_type": "display_data"
    }
   ],
   "source": [
    "for i in loan_pr[num]:\n",
    "    x=1\n",
    "    axes=plt.subplots(x)\n",
    "    sb.boxplot(loan_pr[i],ax=axes[x])\n",
    "    x=x+1"
   ]
  },
  {
   "cell_type": "code",
   "execution_count": null,
   "id": "a2aab8bd",
   "metadata": {},
   "outputs": [],
   "source": [
    "# as we can see from above plots ther are a lot of signifcant outliners"
   ]
  },
  {
   "cell_type": "code",
   "execution_count": 170,
   "id": "c7acc1ce",
   "metadata": {},
   "outputs": [],
   "source": [
    "#Multivariate Analysis (data which have multiple variables )"
   ]
  },
  {
   "cell_type": "code",
   "execution_count": 171,
   "id": "776c00ca",
   "metadata": {},
   "outputs": [
    {
     "data": {
      "text/plain": [
       "<seaborn.axisgrid.PairGrid at 0x23e99365100>"
      ]
     },
     "execution_count": 171,
     "metadata": {},
     "output_type": "execute_result"
    },
    {
     "data": {
      "image/png": "[encoded data removed]",
      "text/plain": [
       "<Figure size 720x720 with 14 Axes>"
      ]
     },
     "metadata": {
      "needs_background": "light"
     },
     "output_type": "display_data"
    }
   ],
   "source": [
    "sb.pairplot(loan_pr[num],corner=True)"
   ]
  },
  {
   "cell_type": "code",
   "execution_count": null,
   "id": "a679d0e6",
   "metadata": {},
   "outputs": [],
   "source": [
    "#observing all the varaibles/data in a heatmap \n",
    "\n",
    "# as we can see there is nor speacial relationship between variables "
   ]
  },
  {
   "cell_type": "code",
   "execution_count": 172,
   "id": "35069e7d",
   "metadata": {},
   "outputs": [
    {
     "data": {
      "text/plain": [
       "<AxesSubplot:>"
      ]
     },
     "execution_count": 172,
     "metadata": {},
     "output_type": "execute_result"
    },
    {
     "data": {
      "image/png": "[encoded data removed]",
      "text/plain": [
       "<Figure size 432x288 with 2 Axes>"
      ]
     },
     "metadata": {
      "needs_background": "light"
     },
     "output_type": "display_data"
    }
   ],
   "source": [
    "sb.heatmap(loan_pr.corr(),annot=True,mask=np.triu(loan_pr.corr(),+1))"
   ]
  },
  {
   "cell_type": "code",
   "execution_count": null,
   "id": "ed647a53",
   "metadata": {},
   "outputs": [],
   "source": [
    "# we need to treat the null values before train and tesing our model"
   ]
  },
  {
   "cell_type": "code",
   "execution_count": 173,
   "id": "c652c84e",
   "metadata": {},
   "outputs": [],
   "source": [
    "cat_cols=['Gender','Married','Education','Self_Employed','Loan_Amount_Term','Credit_History','Property_Area']"
   ]
  },
  {
   "cell_type": "code",
   "execution_count": 174,
   "id": "05fce9f6",
   "metadata": {},
   "outputs": [],
   "source": [
    "con_col=num"
   ]
  },
  {
   "cell_type": "code",
   "execution_count": 175,
   "id": "eb37ddc9",
   "metadata": {},
   "outputs": [],
   "source": [
    "loan_pr['Gender']=loan_pr['Gender'].fillna(loan_pr['Gender'].mode()[0])\n",
    "loan_pr['Married']=loan_pr['Married'].fillna(loan_pr['Married'].mode()[0])\n",
    "loan_pr['Dependents']=loan_pr['Dependents'].fillna(loan_pr['Dependents'].mode()[0])\n",
    "loan_pr['Self_Employed']=loan_pr['Self_Employed'].fillna(loan_pr['Self_Employed'].mode()[0])\n",
    "loan_pr['LoanAmount']=loan_pr['LoanAmount'].fillna(loan_pr['LoanAmount'].median())\n",
    "loan_pr['Loan_Amount_Term']=loan_pr['Loan_Amount_Term'].fillna(loan_pr['Loan_Amount_Term'].median())\n",
    "loan_pr.loc[(loan_pr.Credit_History.isnull())&(loan_pr.ApplicantIncome>=3859),'Credit_History']=1\n",
    "loan_pr.loc[(loan_pr.Credit_History.isnull())&(loan_pr.ApplicantIncome<=3859),'Credit_History']=0"
   ]
  },
  {
   "cell_type": "code",
   "execution_count": null,
   "id": "779f0d20",
   "metadata": {},
   "outputs": [],
   "source": []
  },
  {
   "cell_type": "code",
   "execution_count": null,
   "id": "5fdeee7c",
   "metadata": {},
   "outputs": [],
   "source": [
    "#encoding and scaling the datas "
   ]
  },
  {
   "cell_type": "code",
   "execution_count": 176,
   "id": "947d3090",
   "metadata": {},
   "outputs": [
    {
     "name": "stdout",
     "output_type": "stream",
     "text": [
      "The  data are\n"
     ]
    },
    {
     "data": {
      "text/html": [
       "<div>\n",
       "<style scoped>\n",
       "    .dataframe tbody tr th:only-of-type {\n",
       "        vertical-align: middle;\n",
       "    }\n",
       "\n",
       "    .dataframe tbody tr th {\n",
       "        vertical-align: top;\n",
       "    }\n",
       "\n",
       "    .dataframe thead th {\n",
       "        text-align: right;\n",
       "    }\n",
       "</style>\n",
       "<table border=\"1\" class=\"dataframe\">\n",
       "  <thead>\n",
       "    <tr style=\"text-align: right;\">\n",
       "      <th></th>\n",
       "      <th>Dependents</th>\n",
       "      <th>ApplicantIncome</th>\n",
       "      <th>CoapplicantIncome</th>\n",
       "      <th>LoanAmount</th>\n",
       "      <th>Loan_Status</th>\n",
       "      <th>Gender_Male</th>\n",
       "      <th>Married_Yes</th>\n",
       "      <th>Education_Not Graduate</th>\n",
       "      <th>Self_Employed_Yes</th>\n",
       "      <th>Loan_Amount_Term_36.0</th>\n",
       "      <th>...</th>\n",
       "      <th>Loan_Amount_Term_84.0</th>\n",
       "      <th>Loan_Amount_Term_120.0</th>\n",
       "      <th>Loan_Amount_Term_180.0</th>\n",
       "      <th>Loan_Amount_Term_240.0</th>\n",
       "      <th>Loan_Amount_Term_300.0</th>\n",
       "      <th>Loan_Amount_Term_360.0</th>\n",
       "      <th>Loan_Amount_Term_480.0</th>\n",
       "      <th>Credit_History_1.0</th>\n",
       "      <th>Property_Area_Semiurban</th>\n",
       "      <th>Property_Area_Urban</th>\n",
       "    </tr>\n",
       "  </thead>\n",
       "  <tbody>\n",
       "    <tr>\n",
       "      <th>0</th>\n",
       "      <td>-0.737806</td>\n",
       "      <td>0.072991</td>\n",
       "      <td>-0.554487</td>\n",
       "      <td>-0.211241</td>\n",
       "      <td>1</td>\n",
       "      <td>1</td>\n",
       "      <td>0</td>\n",
       "      <td>0</td>\n",
       "      <td>0</td>\n",
       "      <td>0</td>\n",
       "      <td>...</td>\n",
       "      <td>0</td>\n",
       "      <td>0</td>\n",
       "      <td>0</td>\n",
       "      <td>0</td>\n",
       "      <td>0</td>\n",
       "      <td>1</td>\n",
       "      <td>0</td>\n",
       "      <td>1</td>\n",
       "      <td>0</td>\n",
       "      <td>1</td>\n",
       "    </tr>\n",
       "    <tr>\n",
       "      <th>1</th>\n",
       "      <td>0.253470</td>\n",
       "      <td>-0.134412</td>\n",
       "      <td>-0.038732</td>\n",
       "      <td>-0.211241</td>\n",
       "      <td>0</td>\n",
       "      <td>1</td>\n",
       "      <td>1</td>\n",
       "      <td>0</td>\n",
       "      <td>0</td>\n",
       "      <td>0</td>\n",
       "      <td>...</td>\n",
       "      <td>0</td>\n",
       "      <td>0</td>\n",
       "      <td>0</td>\n",
       "      <td>0</td>\n",
       "      <td>0</td>\n",
       "      <td>1</td>\n",
       "      <td>0</td>\n",
       "      <td>1</td>\n",
       "      <td>0</td>\n",
       "      <td>0</td>\n",
       "    </tr>\n",
       "    <tr>\n",
       "      <th>2</th>\n",
       "      <td>-0.737806</td>\n",
       "      <td>-0.393747</td>\n",
       "      <td>-0.554487</td>\n",
       "      <td>-0.948996</td>\n",
       "      <td>1</td>\n",
       "      <td>1</td>\n",
       "      <td>1</td>\n",
       "      <td>0</td>\n",
       "      <td>1</td>\n",
       "      <td>0</td>\n",
       "      <td>...</td>\n",
       "      <td>0</td>\n",
       "      <td>0</td>\n",
       "      <td>0</td>\n",
       "      <td>0</td>\n",
       "      <td>0</td>\n",
       "      <td>1</td>\n",
       "      <td>0</td>\n",
       "      <td>1</td>\n",
       "      <td>0</td>\n",
       "      <td>1</td>\n",
       "    </tr>\n",
       "    <tr>\n",
       "      <th>3</th>\n",
       "      <td>-0.737806</td>\n",
       "      <td>-0.462062</td>\n",
       "      <td>0.251980</td>\n",
       "      <td>-0.306435</td>\n",
       "      <td>1</td>\n",
       "      <td>1</td>\n",
       "      <td>1</td>\n",
       "      <td>1</td>\n",
       "      <td>0</td>\n",
       "      <td>0</td>\n",
       "      <td>...</td>\n",
       "      <td>0</td>\n",
       "      <td>0</td>\n",
       "      <td>0</td>\n",
       "      <td>0</td>\n",
       "      <td>0</td>\n",
       "      <td>1</td>\n",
       "      <td>0</td>\n",
       "      <td>1</td>\n",
       "      <td>0</td>\n",
       "      <td>1</td>\n",
       "    </tr>\n",
       "    <tr>\n",
       "      <th>4</th>\n",
       "      <td>-0.737806</td>\n",
       "      <td>0.097728</td>\n",
       "      <td>-0.554487</td>\n",
       "      <td>-0.056551</td>\n",
       "      <td>1</td>\n",
       "      <td>1</td>\n",
       "      <td>0</td>\n",
       "      <td>0</td>\n",
       "      <td>0</td>\n",
       "      <td>0</td>\n",
       "      <td>...</td>\n",
       "      <td>0</td>\n",
       "      <td>0</td>\n",
       "      <td>0</td>\n",
       "      <td>0</td>\n",
       "      <td>0</td>\n",
       "      <td>1</td>\n",
       "      <td>0</td>\n",
       "      <td>1</td>\n",
       "      <td>0</td>\n",
       "      <td>1</td>\n",
       "    </tr>\n",
       "  </tbody>\n",
       "</table>\n",
       "<p>5 rows × 21 columns</p>\n",
       "</div>"
      ],
      "text/plain": [
       "   Dependents  ApplicantIncome  CoapplicantIncome  LoanAmount  Loan_Status  \\\n",
       "0   -0.737806         0.072991          -0.554487   -0.211241            1   \n",
       "1    0.253470        -0.134412          -0.038732   -0.211241            0   \n",
       "2   -0.737806        -0.393747          -0.554487   -0.948996            1   \n",
       "3   -0.737806        -0.462062           0.251980   -0.306435            1   \n",
       "4   -0.737806         0.097728          -0.554487   -0.056551            1   \n",
       "\n",
       "   Gender_Male  Married_Yes  Education_Not Graduate  Self_Employed_Yes  \\\n",
       "0            1            0                       0                  0   \n",
       "1            1            1                       0                  0   \n",
       "2            1            1                       0                  1   \n",
       "3            1            1                       1                  0   \n",
       "4            1            0                       0                  0   \n",
       "\n",
       "   Loan_Amount_Term_36.0  ...  Loan_Amount_Term_84.0  Loan_Amount_Term_120.0  \\\n",
       "0                      0  ...                      0                       0   \n",
       "1                      0  ...                      0                       0   \n",
       "2                      0  ...                      0                       0   \n",
       "3                      0  ...                      0                       0   \n",
       "4                      0  ...                      0                       0   \n",
       "\n",
       "   Loan_Amount_Term_180.0  Loan_Amount_Term_240.0  Loan_Amount_Term_300.0  \\\n",
       "0                       0                       0                       0   \n",
       "1                       0                       0                       0   \n",
       "2                       0                       0                       0   \n",
       "3                       0                       0                       0   \n",
       "4                       0                       0                       0   \n",
       "\n",
       "   Loan_Amount_Term_360.0  Loan_Amount_Term_480.0  Credit_History_1.0  \\\n",
       "0                       1                       0                   1   \n",
       "1                       1                       0                   1   \n",
       "2                       1                       0                   1   \n",
       "3                       1                       0                   1   \n",
       "4                       1                       0                   1   \n",
       "\n",
       "   Property_Area_Semiurban  Property_Area_Urban  \n",
       "0                        0                    1  \n",
       "1                        0                    0  \n",
       "2                        0                    1  \n",
       "3                        0                    1  \n",
       "4                        0                    1  \n",
       "\n",
       "[5 rows x 21 columns]"
      ]
     },
     "execution_count": 176,
     "metadata": {},
     "output_type": "execute_result"
    }
   ],
   "source": [
    "loan_pr = pd.get_dummies(loan_pr, columns = cat_cols, drop_first = True)\n",
    "from sklearn.preprocessing import StandardScaler\n",
    "scaler=StandardScaler()\n",
    "loan_pr[con_col] = scaler.fit_transform(loan_pr[con_col])\n",
    "print(\"The  data are\")\n",
    "loan_pr.head()"
   ]
  },
  {
   "cell_type": "code",
   "execution_count": null,
   "id": "01a82879",
   "metadata": {},
   "outputs": [],
   "source": [
    "# droping loan status from column \n",
    "\n",
    "# spliting the data in x will be other predefined inputs and outputs whereas in y we will have loan staus which our model will predict"
   ]
  },
  {
   "cell_type": "code",
   "execution_count": 177,
   "id": "36d9067a",
   "metadata": {},
   "outputs": [],
   "source": [
    "X=loan_pr.drop('Loan_Status',axis=1)\n",
    "Y=loan_pr[['Loan_Status']]"
   ]
  },
  {
   "cell_type": "code",
   "execution_count": null,
   "id": "249b9d50",
   "metadata": {},
   "outputs": [],
   "source": [
    "# we will train and test the splits"
   ]
  },
  {
   "cell_type": "code",
   "execution_count": 178,
   "id": "923c7cf6",
   "metadata": {},
   "outputs": [],
   "source": [
    "from sklearn.model_selection import train_test_split\n",
    "X_train,X_test,Y_train,Y_test=train_test_split(X,Y,test_size=.30,stratify=Y)"
   ]
  },
  {
   "cell_type": "code",
   "execution_count": null,
   "id": "731400a4",
   "metadata": {},
   "outputs": [],
   "source": []
  },
  {
   "cell_type": "code",
   "execution_count": null,
   "id": "09900d9b",
   "metadata": {},
   "outputs": [],
   "source": [
    "# it times to evalute our model in this case i will be using random forest classifer and logistic regression \n",
    "\n",
    "#random forest classifier is a classification method where the eastimator fits a number of tree classifier on the sample data set\n",
    "# it has high accuracy rate "
   ]
  },
  {
   "cell_type": "code",
   "execution_count": 180,
   "id": "1b52c8ec",
   "metadata": {},
   "outputs": [
    {
     "name": "stdout",
     "output_type": "stream",
     "text": [
      "Accuracy Score of train  is  0.8135198135198135\n",
      "Accuracy Score of test is  0.7351351351351352\n"
     ]
    }
   ],
   "source": [
    "from sklearn.ensemble import RandomForestClassifier\n",
    "RFC=RandomForestClassifier(n_estimators=1000,max_depth=7,max_features='auto',min_samples_split=10,min_samples_leaf=5,random_state=1)\n",
    "RFC_model=RFC.fit(X_train,Y_train)\n",
    "print('Accuracy Score of train  is ',RFC_model.score(X_train,Y_train))\n",
    "Y_train_predict_RFC=RFC_model.predict(X_train)\n",
    "Y_test_predict_RFC=RFC_model.predict(X_test)\n",
    "print('Accuracy Score of test is ',RFC_model.score(X_test,Y_test)) "
   ]
  },
  {
   "cell_type": "code",
   "execution_count": null,
   "id": "57772fca",
   "metadata": {},
   "outputs": [],
   "source": [
    "# #we traint eh classification model and prediction bith accuracing as you can see the predefined input/output (train's accuracy is .81 ie 81%\n",
    "  # whereas test accucary is .73 ie 73 % which is good )"
   ]
  },
  {
   "cell_type": "code",
   "execution_count": 182,
   "id": "ed4df62f",
   "metadata": {},
   "outputs": [
    {
     "name": "stdout",
     "output_type": "stream",
     "text": [
      "Confusion Matrix\n"
     ]
    },
    {
     "data": {
      "text/plain": [
       "array([[ 20,  38],\n",
       "       [ 11, 116]], dtype=int64)"
      ]
     },
     "execution_count": 182,
     "metadata": {},
     "output_type": "execute_result"
    }
   ],
   "source": [
    "print(\"Confusion Matrix\")\n",
    "cm_test=metrics.confusion_matrix(Y_test, Y_test_predict_RFC)\n",
    "cm_test"
   ]
  },
  {
   "cell_type": "code",
   "execution_count": null,
   "id": "4a80d9ab",
   "metadata": {},
   "outputs": [],
   "source": [
    "# Confusion matrix is judfes the preformance of the classification model. \n",
    "\n",
    "# here 20 is true posivtive means the predicted answer is accrate (answer was +ve model predicted +ve) . where 11 is false negative ie predicted answer is wrong (negative as in answer was postive but predcited negative )\n",
    "# 38 is false positvie means the answer redcited is wrong and 116 is true negative means the answer was negative and model predicted negative "
   ]
  },
  {
   "cell_type": "code",
   "execution_count": 184,
   "id": "41609e9c",
   "metadata": {},
   "outputs": [
    {
     "name": "stdout",
     "output_type": "stream",
     "text": [
      "Classification_report \n",
      "               precision    recall  f1-score   support\n",
      "\n",
      "           0       0.65      0.34      0.45        58\n",
      "           1       0.75      0.91      0.83       127\n",
      "\n",
      "    accuracy                           0.74       185\n",
      "   macro avg       0.70      0.63      0.64       185\n",
      "weighted avg       0.72      0.74      0.71       185\n",
      "\n"
     ]
    }
   ],
   "source": [
    "cr_test=metrics.classification_report(Y_test, Y_test_predict_RFC)\n",
    "print(\"Classification_report\",'\\n',cr_test )"
   ]
  },
  {
   "cell_type": "code",
   "execution_count": null,
   "id": "e3986cf0",
   "metadata": {},
   "outputs": [],
   "source": [
    "# classification report shows the overall report of the classificaltion model here in case our model (random forest regression)"
   ]
  },
  {
   "cell_type": "code",
   "execution_count": 185,
   "id": "8c571f6e",
   "metadata": {},
   "outputs": [
    {
     "name": "stdout",
     "output_type": "stream",
     "text": [
      "Accuracy Score is  0.8065268065268065\n",
      "Accuracy Score is  0.7297297297297297\n"
     ]
    }
   ],
   "source": [
    "from sklearn.linear_model import LogisticRegression\n",
    "LR=LogisticRegression(solver='newton-cg',max_iter=10000)\n",
    "LR_Model=LR.fit(X_train,Y_train)\n",
    "print('Accuracy Score is ',LR_Model.score(X_train,Y_train))\n",
    "Y_train_predict_LR=LR_Model.predict(X_train)\n",
    "Y_test_predict_LR=LR_Model.predict(X_test)\n",
    "print('Accuracy Score is ',LR_Model.score(X_test,Y_test))"
   ]
  },
  {
   "cell_type": "code",
   "execution_count": 186,
   "id": "804b29ba",
   "metadata": {},
   "outputs": [
    {
     "name": "stdout",
     "output_type": "stream",
     "text": [
      "Classification_report \n",
      " [[ 20  38]\n",
      " [ 12 115]]\n"
     ]
    }
   ],
   "source": [
    "cm_lr_test=metrics.confusion_matrix(Y_test, Y_test_predict_LR)\n",
    "print(\"Classification_report\",'\\n',cm_lr_test )"
   ]
  },
  {
   "cell_type": "code",
   "execution_count": null,
   "id": "a41b9715",
   "metadata": {},
   "outputs": [],
   "source": [
    "#for sample we are ussing logistic regression to compare the model with random forest classifier "
   ]
  },
  {
   "cell_type": "code",
   "execution_count": 188,
   "id": "92d59cf5",
   "metadata": {},
   "outputs": [
    {
     "name": "stdout",
     "output_type": "stream",
     "text": [
      "Classification_report \n",
      "               precision    recall  f1-score   support\n",
      "\n",
      "           0       0.62      0.34      0.44        58\n",
      "           1       0.75      0.91      0.82       127\n",
      "\n",
      "    accuracy                           0.73       185\n",
      "   macro avg       0.69      0.63      0.63       185\n",
      "weighted avg       0.71      0.73      0.70       185\n",
      "\n"
     ]
    }
   ],
   "source": [
    "cr_lr_test=metrics.classification_report(Y_test, Y_test_predict_LR)\n",
    "print(\"Classification_report\",'\\n',cr_lr_test )"
   ]
  },
  {
   "cell_type": "code",
   "execution_count": null,
   "id": "b7902d3d",
   "metadata": {},
   "outputs": [],
   "source": [
    "#classification report of logistic regression model "
   ]
  },
  {
   "cell_type": "code",
   "execution_count": null,
   "id": "867167d9",
   "metadata": {},
   "outputs": [],
   "source": [
    "#comparing both the models you can see our random forest regression model is more accurate then logistic model  "
   ]
  }
 ],
 "metadata": {
  "kernelspec": {
   "display_name": "Python 3",
   "language": "python",
   "name": "python3"
  },
  "language_info": {
   "codemirror_mode": {
    "name": "ipython",
    "version": 3
   },
   "file_extension": ".py",
   "mimetype": "text/x-python",
   "name": "python",
   "nbconvert_exporter": "python",
   "pygments_lexer": "ipython3",
   "version": "3.8.8"
  }
 },
 "nbformat": 4,
 "nbformat_minor": 5
}
